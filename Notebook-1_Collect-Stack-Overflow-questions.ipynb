{
 "cells": [
  {
   "cell_type": "markdown",
   "metadata": {},
   "source": [
    "# Collect questions from Stack Overflow\n",
    "\n",
    "This notebook demonstrates Python code for collecting `watson-studio` questions from [Stack Overflow](https://stackoverflow.com/questions/tagged/watson-studio) using the [Stack Exchange API](https://api.stackexchange.com/docs):\n",
    "\n",
    "- Step 0: Add project token to notebook\n",
    "- Step 1: Collect questions\n",
    "- Step 2: Clean and format questions\n",
    "- Step 3: Save questions in Watson Studio project"
   ]
  },
  {
   "cell_type": "code",
   "execution_count": null,
   "metadata": {},
   "outputs": [],
   "source": []
  },
  {
   "cell_type": "markdown",
   "metadata": {},
   "source": [
    "## Step 0: Add project token\n",
    "\n",
    "To be able to easily save questions in .csv files as assets in our Watson Studio project, we need a _project token_.\n",
    "\n",
    "Follow the steps in this topic: [Adding a project token](https://dataplatform.cloud.ibm.com/docs/content/wsj/analyze-data/token.html?audience=wdp&context=data)"
   ]
  },
  {
   "cell_type": "code",
   "execution_count": null,
   "metadata": {},
   "outputs": [],
   "source": []
  },
  {
   "cell_type": "markdown",
   "metadata": {},
   "source": [
    "## Step 1: Collect questions"
   ]
  },
  {
   "cell_type": "markdown",
   "metadata": {},
   "source": [
    "Define some useful routines:"
   ]
  },
  {
   "cell_type": "code",
   "execution_count": 2,
   "metadata": {},
   "outputs": [],
   "source": [
    "import datetime, time, math\n",
    "import requests\n",
    "\n",
    "def toEpochSeconds( str ):\n",
    "    d = datetime.datetime.strptime( str, '%Y-%m-%d' )\n",
    "    t = time.mktime( d.timetuple() )\n",
    "    return math.floor( t )\n",
    "\n",
    "def queryStackOverflow( start_date_str, end_date_str, tag ):\n",
    "    # StackExchange API: https://api.stackexchange.com/docs/advanced-search\n",
    "    params = { \"tagged\"   : tag,\n",
    "               \"fromdate\" : toEpochSeconds( start_date_str ),\n",
    "               \"todate\"   : toEpochSeconds( end_date_str ),\n",
    "               \"sort\"     : \"creation\",\n",
    "               \"order\"    : \"desc\",\n",
    "               \"site\"     : \"stackoverflow\",\n",
    "               \"filter\"   : \"withbody\"\n",
    "             }\n",
    "    req = requests.get( 'https://api.stackexchange.com/2.2/search/advanced', params=params )\n",
    "    return req.json()\n",
    "\n"
   ]
  },
  {
   "cell_type": "markdown",
   "metadata": {},
   "source": [
    "Query Stack Overflow:"
   ]
  },
  {
   "cell_type": "code",
   "execution_count": 3,
   "metadata": {},
   "outputs": [],
   "source": [
    "first_date_str = \"2019-08-01\"\n",
    "final_date_str = \"2019-08-31\"\n",
    "tag            = \"watson-studio\"\n",
    "questions = queryStackOverflow( first_date_str, final_date_str, tag )"
   ]
  },
  {
   "cell_type": "markdown",
   "metadata": {},
   "source": [
    "View results:"
   ]
  },
  {
   "cell_type": "code",
   "execution_count": 4,
   "metadata": {},
   "outputs": [
    {
     "name": "stdout",
     "output_type": "stream",
     "text": [
      "{\n",
      "   \"items\": [\n",
      "      {\n",
      "         \"tags\": [\n",
      "            \"python-3.x\",\n",
      "            \"jupyter-notebook\",\n",
      "            \"ibm-watson\",\n",
      "            \"watson-studio\"\n",
      "         ],\n",
      "         \"owner\": {\n",
      "         },\n",
      "         \"is_answered\": false,\n",
      "         \"view_count\": 17,\n",
      "         \"answer_count\": 0,\n",
      "         \"score\": 0,\n",
      "         \"last_activity_date\": 1566575719,\n",
      "         \"creation_date\": 1566575719,\n",
      "         \"question_id\": 57629588,\n",
      "         \"link\": \"https://stackoverflow.com/questions/57629588/importing-scripts-into-a-notebook-in-ibm-watson-studio\",\n",
      "         \"title\": \"Importing scripts into a notebook in IBM WATSON STUDIO\",\n",
      "         \"body\": \"<p>I am doing PCA on CIFAR 10 image on IBM WATSON Studio Free version so I uploaded the python file for downloading the CIFAR10 on the studio</p>\\n\\n<p>pic below. \\n<a href=\\\"https://i.stack.imgur.com/eoLz7.jpg\\\" rel=\\\"nofollow noreferrer\\\"><img src=\\\"https://i.stack.imgur.com/eoLz7.jpg\\\" alt=\\\"enter image description here\\\"></a> </p>\\n\\n<p>But when I trying to import <code>cache</code> the following error is showing.\\npic below-\\n<a href=\\\"https://i.stack.imgur.com/hB5e6.jpg\\\" rel=\\\"nofollow noreferrer\\\"><img src=\\\"https://i.stack.imgur.com/hB5e6.jpg\\\" alt=\\\"enter image description here\\\"></a> </p>\\n\\n<p>After spending some time on google I find a solution but I can't understand it. \\nlink \\n<a href=\\\"https://dataplatform.cloud.ibm.com/docs/content/wsj/analyze-data/add-script-to-notebook.html\\\" rel=\\\"nofollow noreferrer\\\">https://dataplatform.cloud.ibm.com/docs/content/wsj/analyze-data/add-script-to-notebook.html</a></p>\\n\\n<pre><code>the solution is as follows:- \\nClick the Add Data icon (Shows the Add Data icon), and then browse the script file or drag it into your notebook sidebar.\\n\\nClick in an empty code cell in your notebook and then click the Insert to code link below the file. Take the returned string, and write to a file in the file system that comes with the runtime session.\\n\\nTo import the classes to access the methods in a script in your notebook, use the following command:\\n\\nFor Python:\\n\\nfrom &lt;python file name&gt; import &lt;class name&gt;\\n</code></pre>\\n\\n<p>I can't understand this line </p>\\n\\n<p>` and write to a file in the file system that comes with the runtime session.``</p>\\n\\n<p>Where can I find the file that comes with runtime session? Where is the file system located?</p>\\n\\n<p>Can anyone plz help me in this with the details where to find that file</p>\\n\"\n",
      "      },\n",
      "      {\n",
      "         \"tags\": [\n",
      "            \"visual-recognition\",\n",
      "            \"watson-studio\"\n",
      "         ],\n",
      "         \"owner\": {\n",
      "         },\n",
      "         \"is_answered\": false,\n",
      "         \"view_count\": 39,\n",
      "         \"answer_count\": 1,\n",
      "         \"score\": 0,\n",
      "         \"last_activity_date\": 1566285876,\n",
      "         \"creation_date\": 1566228780,\n",
      "         \"question_id\": 57559833,\n",
      "         \"link\": \"https://stackoverflow.com/questions/57559833/cant-figure-out-how-to-create-a-new-empty-project-on-watson-studio-after-the-re\",\n",
      "         \"title\": \"Can&#39;t figure out how to create a new empty project on Watson Studio after the redesign\",\n",
      "         \"body\": \"<p>I'm taking the IBM Certification on Coursera and the instructions are to \\\"create a project\\\" and then select \\\"visual recognition project\\\" but after an apparent redesign, the 2nd option is no longer there. I read one previous post about this issue, but it did not solve my problem as the \\\"create\\\" button is grayed out and I'm not sure what to do to create this project. </p>\\n\\n<p>Any tips would be appreciated</p>\\n\"\n",
      "      },\n",
      "      {\n",
      "         \"tags\": [\n",
      "            \"watson-studio\"\n",
      "         ],\n",
      "         \"owner\": {\n",
      "         },\n",
      "         \"is_answered\": true,\n",
      "         \"view_count\": 42,\n",
      "         \"accepted_answer_id\": 57405547,\n",
      "         \"answer_count\": 1,\n",
      "         \"score\": 1,\n",
      "         \"last_activity_date\": 1565241131,\n",
      "         \"creation_date\": 1565161368,\n",
      "         \"question_id\": 57388664,\n",
      "         \"link\": \"https://stackoverflow.com/questions/57388664/cannot-locate-the-visual-recognition-module-on-watson-studio-lite\",\n",
      "         \"title\": \"Cannot locate the Visual Recognition Module on Watson Studio Lite\",\n",
      "         \"body\": \"<p>I am following a tutorial that requires me to select the visual recognition module as the next step of selecting create a project.</p>\\n\\n<p>However, after clicking create project, I only see two options:</p>\\n\\n<ul>\\n<li>Create an empty project</li>\\n<li>Create a project from a sample or file</li>\\n</ul>\\n\\n<p>Could you please let me know how to access the visual recognition module?</p>\\n\"\n",
      "      },\n",
      "      {\n",
      "         \"tags\": [\n",
      "            \"ibm-watson\",\n",
      "            \"watson-studio\"\n",
      "         ],\n",
      "         \"owner\": {\n",
      "         },\n",
      "         \"is_answered\": false,\n",
      "         \"view_count\": 25,\n",
      "         \"answer_count\": 0,\n",
      "         \"score\": 0,\n",
      "         \"last_activity_date\": 1565341511,\n",
      "         \"creation_date\": 1565035477,\n",
      "         \"last_edit_date\": 1565341511,\n",
      "         \"question_id\": 57365400,\n",
      "         \"link\": \"https://stackoverflow.com/questions/57365400/use-the-data-from-cloud-object-storage-to-jupyter-noteboon-in-watson-studio\",\n",
      "         \"title\": \"use the data from cloud object storage to jupyter noteboon in watson studio\",\n",
      "         \"body\": \"<p>I have a cloud object storage in IBM cloud and a bucket inside it. there are .wav files inside the bucket, and I have established a connection to my project in watson studio, I have added the data asset too. but I am not able to insert the data into python jupyter notebook. I only get the insert the credential in the find add data option, not the data as a streaming object. I used to do it before some days. I am using a lite version and my account free trial for a mont is valid till 12th Aug 2019</p>\\n\"\n",
      "      },\n",
      "      {\n",
      "         \"tags\": [\n",
      "            \"directory\",\n",
      "            \"ibm-watson\",\n",
      "            \"watson-studio\",\n",
      "            \"project-lib\"\n",
      "         ],\n",
      "         \"owner\": {\n",
      "         },\n",
      "         \"is_answered\": false,\n",
      "         \"view_count\": 23,\n",
      "         \"answer_count\": 1,\n",
      "         \"score\": 1,\n",
      "         \"last_activity_date\": 1565361080,\n",
      "         \"creation_date\": 1565026906,\n",
      "         \"question_id\": 57363626,\n",
      "         \"link\": \"https://stackoverflow.com/questions/57363626/folders-in-ibm-watson-studio\",\n",
      "         \"title\": \"folders in ibm watson studio\",\n",
      "         \"body\": \"<p>I am using project lib in ibm watson studio to store and save files created in a jupyter notebook(mainly csv and pkl files). The thing is that I need to store these files in different folders in my project. I could not find the way to do this properly.</p>\\n\\n<pre><code>    def my_append_data(source_data, file_name): #source data is a Pandas Dataframe\\n  project.save_data(file_name,source_data.to_csv(),set_project_asset=True,overwrite=True)#save csv file\\n\\n    return 0\\n</code></pre>\\n\\n<p>this is the function that i am using(for csv files)  but the files are stored in the project library without any folder specification, is there any way to create folders inside the project using project lib?</p>\\n\"\n",
      "      }\n",
      "   ],\n",
      "   \"has_more\": false,\n",
      "   \"quota_max\": 300,\n",
      "   \"quota_remaining\": 287\n",
      "}\n"
     ]
    }
   ],
   "source": [
    "import json\n",
    "print( json.dumps( questions, indent=3 ) )"
   ]
  },
  {
   "cell_type": "code",
   "execution_count": null,
   "metadata": {},
   "outputs": [],
   "source": []
  },
  {
   "cell_type": "markdown",
   "metadata": {},
   "source": [
    "## Step 2: Clean and format questions\n",
    "\n",
    "Take results from Stack Overflow and make them suitable for processing (eg. sending to the IBM Watson Natural Language Classifier (NLC) service or the IBM Watson Natural Language Understanding (NLU) service.)"
   ]
  },
  {
   "cell_type": "markdown",
   "metadata": {},
   "source": [
    "Define some useful routines:"
   ]
  },
  {
   "cell_type": "code",
   "execution_count": 5,
   "metadata": {},
   "outputs": [],
   "source": [
    "import re\n",
    "\n",
    "def cleanText( str ):\n",
    "    str_clean = str\n",
    "    str_clean = re.sub( \"[\\n\\r]\",    \" \", str_clean )\n",
    "    str_clean = re.sub( \"\\&\\S+\\;\",   \"\",  str_clean )\n",
    "    str_clean = re.sub( \"http[\\S]+\", \" \", str_clean )\n",
    "    str_clean = re.sub( \"\\<.*?\\>\",   \" \", str_clean )\n",
    "    str_clean = re.sub( \"[^0-9a-zA-Z .\\?\\-\\_]\", \" \", str_clean )\n",
    "    str_clean = re.sub( \"\\s+\",       \" \", str_clean )\n",
    "    str_clean = re.sub( \"^\\s+\",      \"\",  str_clean )\n",
    "    str_clean = re.sub( \"\\s+$\",      \"\",  str_clean )\n",
    "    return str_clean[:999]\n",
    "\n",
    "def extractQuestionsTxt( questions_json ):\n",
    "    questions_txt = []\n",
    "    for item in questions_json[\"items\"]:\n",
    "        org_title = item[\"title\"]\n",
    "        org_body  = item[\"body\"]\n",
    "        txt_title = cleanText( org_title )\n",
    "        txt_body  = cleanText( org_body )\n",
    "        questions_txt.append( { \"tags\"      : item[\"tags\"],\n",
    "                                \"title_org\" : org_title,\n",
    "                                \"title_txt\" : txt_title,\n",
    "                                \"question_org\"  : org_body,\n",
    "                                \"question_txt\"  : txt_body } )\n",
    "    return questions_txt\n",
    "\n",
    "def printQuestions( questions_txt ):\n",
    "    for question in questions_txt:\n",
    "        print( \"**\" + question[\"title_txt\"] + \"**\" )\n",
    "        print( \"TAGS: \" + \" | \".join( question[\"tags\"] ) )\n",
    "        print( '\"' + question[\"question_txt\"] + '\"' )\n",
    "        print( \"\\n\\n\" )\n"
   ]
  },
  {
   "cell_type": "markdown",
   "metadata": {},
   "source": [
    "Create some _cleaned_ questions:"
   ]
  },
  {
   "cell_type": "code",
   "execution_count": 6,
   "metadata": {},
   "outputs": [],
   "source": [
    "questions_txt = extractQuestionsTxt( questions )"
   ]
  },
  {
   "cell_type": "markdown",
   "metadata": {},
   "source": [
    "View results:"
   ]
  },
  {
   "cell_type": "code",
   "execution_count": 7,
   "metadata": {},
   "outputs": [
    {
     "name": "stdout",
     "output_type": "stream",
     "text": [
      "**Importing scripts into a notebook in IBM WATSON STUDIO**\n",
      "TAGS: python-3.x | jupyter-notebook | ibm-watson | watson-studio\n",
      "\"I am doing PCA on CIFAR 10 image on IBM WATSON Studio Free version so I uploaded the python file for downloading the CIFAR10 on the studio pic below. But when I trying to import cache the following error is showing. pic below- After spending some time on google I find a solution but I can t understand it. link the solution is as follows - Click the Add Data icon Shows the Add Data icon and then browse the script file or drag it into your notebook sidebar. Click in an empty code cell in your notebook and then click the Insert to code link below the file. Take the returned string and write to a file in the file system that comes with the runtime session. To import the classes to access the methods in a script in your notebook use the following command For Python from python file name import class name I can t understand this line and write to a file in the file system that comes with the runtime session. Where can I find the file that comes with runtime session? Where is the file system\"\n",
      "\n",
      "\n",
      "\n",
      "**Cant figure out how to create a new empty project on Watson Studio after the redesign**\n",
      "TAGS: visual-recognition | watson-studio\n",
      "\"I m taking the IBM Certification on Coursera and the instructions are to create a project and then select visual recognition project but after an apparent redesign the 2nd option is no longer there. I read one previous post about this issue but it did not solve my problem as the create button is grayed out and I m not sure what to do to create this project. Any tips would be appreciated\"\n",
      "\n",
      "\n",
      "\n",
      "**Cannot locate the Visual Recognition Module on Watson Studio Lite**\n",
      "TAGS: watson-studio\n",
      "\"I am following a tutorial that requires me to select the visual recognition module as the next step of selecting create a project. However after clicking create project I only see two options Create an empty project Create a project from a sample or file Could you please let me know how to access the visual recognition module?\"\n",
      "\n",
      "\n",
      "\n",
      "**use the data from cloud object storage to jupyter noteboon in watson studio**\n",
      "TAGS: ibm-watson | watson-studio\n",
      "\"I have a cloud object storage in IBM cloud and a bucket inside it. there are .wav files inside the bucket and I have established a connection to my project in watson studio I have added the data asset too. but I am not able to insert the data into python jupyter notebook. I only get the insert the credential in the find add data option not the data as a streaming object. I used to do it before some days. I am using a lite version and my account free trial for a mont is valid till 12th Aug 2019\"\n",
      "\n",
      "\n",
      "\n",
      "**folders in ibm watson studio**\n",
      "TAGS: directory | ibm-watson | watson-studio | project-lib\n",
      "\"I am using project lib in ibm watson studio to store and save files created in a jupyter notebook mainly csv and pkl files . The thing is that I need to store these files in different folders in my project. I could not find the way to do this properly. def my_append_data source_data file_name source data is a Pandas Dataframe project.save_data file_name source_data.to_csv set_project_asset True overwrite True save csv file return 0 this is the function that i am using for csv files but the files are stored in the project library without any folder specification is there any way to create folders inside the project using project lib?\"\n",
      "\n",
      "\n",
      "\n"
     ]
    }
   ],
   "source": [
    "printQuestions( questions_txt )"
   ]
  },
  {
   "cell_type": "code",
   "execution_count": null,
   "metadata": {},
   "outputs": [],
   "source": []
  },
  {
   "cell_type": "markdown",
   "metadata": {},
   "source": [
    "## Step 3: Save cleaned questions"
   ]
  },
  {
   "cell_type": "markdown",
   "metadata": {},
   "source": [
    "Define a handy function:"
   ]
  },
  {
   "cell_type": "code",
   "execution_count": 8,
   "metadata": {},
   "outputs": [],
   "source": [
    "import pandas as pd\n",
    "\n",
    "def createDataFrameCSV( question_arr ):\n",
    "    question_list = []\n",
    "    for question in question_arr:\n",
    "        text = question[\"question_txt\"]\n",
    "        question_list.append( text )\n",
    "    return pd.DataFrame( data={ \"Questions\" : question_list } ).to_csv()"
   ]
  },
  {
   "cell_type": "markdown",
   "metadata": {},
   "source": [
    "Use project_lib to save the questions in a .csv file as an asset in the project:"
   ]
  },
  {
   "cell_type": "code",
   "execution_count": 9,
   "metadata": {},
   "outputs": [
    {
     "data": {
      "text/plain": [
       "{'file_name': 'so_questions_watson-studio_2019-August.csv',\n",
       " 'message': 'File saved to project storage.',\n",
       " 'bucket_name': 'nluworkshopproj-donotdelete-pr-kxjtz2yxb1sovi',\n",
       " 'asset_id': '7392c276-2725-481a-b6ae-172fc3b9dc3b'}"
      ]
     },
     "execution_count": 9,
     "metadata": {},
     "output_type": "execute_result"
    }
   ],
   "source": [
    "project.save_data( \"so_questions_watson-studio_2019-August.csv\", createDataFrameCSV( questions_txt ), overwrite=True )"
   ]
  },
  {
   "cell_type": "code",
   "execution_count": null,
   "metadata": {},
   "outputs": [],
   "source": []
  },
  {
   "cell_type": "code",
   "execution_count": null,
   "metadata": {},
   "outputs": [],
   "source": []
  }
 ],
 "metadata": {
  "kernelspec": {
   "display_name": "Python 3.6",
   "language": "python",
   "name": "python3"
  },
  "language_info": {
   "codemirror_mode": {
    "name": "ipython",
    "version": 3
   },
   "file_extension": ".py",
   "mimetype": "text/x-python",
   "name": "python",
   "nbconvert_exporter": "python",
   "pygments_lexer": "ipython3",
   "version": "3.6.8"
  }
 },
 "nbformat": 4,
 "nbformat_minor": 1
}
