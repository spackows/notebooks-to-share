{
 "cells": [
  {
   "cell_type": "markdown",
   "metadata": {},
   "source": [
    "# Classifying customer messages\n",
    "\n",
    "This notebook demonstrates Python code for classifying customer messages using your trained Natural Language Classifier model.\n",
    "\n",
    "\n",
    "- Step 1: Install required libraries\n",
    "- Step 2: Look up Natural Language Classifier API key and trained model id\n",
    "- Step 3: Classify some test messages"
   ]
  },
  {
   "cell_type": "markdown",
   "metadata": {},
   "source": [
    "## Step 1: Install required libraries\n",
    "\n",
    "- watson_developer_cloud for working with [Watson Natural Language Classifier API](https://cloud.ibm.com/apidocs/natural-language-classifier?code=python)"
   ]
  },
  {
   "cell_type": "code",
   "execution_count": null,
   "metadata": {},
   "outputs": [],
   "source": [
    "!pip install --upgrade watson-developer-cloud"
   ]
  },
  {
   "cell_type": "markdown",
   "metadata": {},
   "source": [
    "## Step 2: Look up Natural Language Classifier API key and trained model ID\n",
    "\n",
    "### API key\n",
    "1. From the **Services** menu in Watson Studio, right-click \"Watson Services\" and then open the link in a new browser tab\n",
    "2. In the new Watson services tab, from the **Action** menu beside the Natural Language Classifier instance, select \"Manage in IBM Cloud\"\n",
    "3. In the service details page that opens, click **Service credentials**, then expand credentials to view them, and then copy the apikey\n",
    "\n",
    "### Model ID\n",
    "- In Watson Studio, on the model details page of your trained NLC model, copy the **Model ID** from the **Overview** tab"
   ]
  },
  {
   "cell_type": "code",
   "execution_count": 2,
   "metadata": {},
   "outputs": [],
   "source": [
    "apikey   = \"\" # <-- PASTE YOUR APIKEY HERE\n",
    "model_id = \"\" # <-- PASTE YOUR MODEL ID HERE"
   ]
  },
  {
   "cell_type": "markdown",
   "metadata": {},
   "source": [
    "## Step 3: Classify messages"
   ]
  },
  {
   "cell_type": "code",
   "execution_count": null,
   "metadata": {},
   "outputs": [],
   "source": [
    "# Instantiate a natural language classifier object\n",
    "#\n",
    "from watson_developer_cloud import NaturalLanguageClassifierV1\n",
    "nlc = NaturalLanguageClassifierV1( iam_apikey=apikey )"
   ]
  },
  {
   "cell_type": "code",
   "execution_count": 8,
   "metadata": {},
   "outputs": [
    {
     "name": "stdout",
     "output_type": "stream",
     "text": [
      "{\n",
      "  \"classifier_id\": \"6367d0x551-nlc-2551\",\n",
      "  \"text\": \"Hi, Watson!\",\n",
      "  \"classes\": [\n",
      "    {\n",
      "      \"confidence\": 0.9898349337852899,\n",
      "      \"class_name\": \"hi\"\n",
      "    },\n",
      "    {\n",
      "      \"confidence\": 0.005484565963507393,\n",
      "      \"class_name\": \"problem\"\n",
      "    },\n",
      "    {\n",
      "      \"confidence\": 0.004680500251202717,\n",
      "      \"class_name\": \"question\"\n",
      "    }\n",
      "  ],\n",
      "  \"top_class\": \"hi\",\n",
      "  \"url\": \"https://gateway.watsonplatform.net/natural-language-classifier/api/v1/classifiers/6367d0x551-nlc-2551\"\n",
      "}\n"
     ]
    }
   ],
   "source": [
    "# Classify some messages...\n",
    "#\n",
    "import json\n",
    "results = nlc.classify( model_id, \"Hi, Watson!\" ).get_result()\n",
    "print( json.dumps( results, indent=2 ) )"
   ]
  },
  {
   "cell_type": "code",
   "execution_count": 9,
   "metadata": {},
   "outputs": [
    {
     "name": "stdout",
     "output_type": "stream",
     "text": [
      "{\n",
      "  \"classifier_id\": \"6367d0x551-nlc-2551\",\n",
      "  \"text\": \"I'm having trouble logging in\",\n",
      "  \"classes\": [\n",
      "    {\n",
      "      \"confidence\": 0.9917539490416382,\n",
      "      \"class_name\": \"problem\"\n",
      "    },\n",
      "    {\n",
      "      \"confidence\": 0.004517168501971262,\n",
      "      \"class_name\": \"question\"\n",
      "    },\n",
      "    {\n",
      "      \"confidence\": 0.003728882456390544,\n",
      "      \"class_name\": \"hi\"\n",
      "    }\n",
      "  ],\n",
      "  \"top_class\": \"problem\",\n",
      "  \"url\": \"https://gateway.watsonplatform.net/natural-language-classifier/api/v1/classifiers/6367d0x551-nlc-2551\"\n",
      "}\n"
     ]
    }
   ],
   "source": [
    "results = nlc.classify( model_id, \"I'm having trouble logging in\" ).get_result()\n",
    "print( json.dumps( results, indent=2 ) )"
   ]
  },
  {
   "cell_type": "code",
   "execution_count": 10,
   "metadata": {},
   "outputs": [
    {
     "name": "stdout",
     "output_type": "stream",
     "text": [
      "{\n",
      "  \"classifier_id\": \"6367d0x551-nlc-2551\",\n",
      "  \"text\": \"how to add a notebook?\",\n",
      "  \"classes\": [\n",
      "    {\n",
      "      \"confidence\": 0.9911671711133425,\n",
      "      \"class_name\": \"question\"\n",
      "    },\n",
      "    {\n",
      "      \"confidence\": 0.00666465872852412,\n",
      "      \"class_name\": \"problem\"\n",
      "    },\n",
      "    {\n",
      "      \"confidence\": 0.00216817015813332,\n",
      "      \"class_name\": \"hi\"\n",
      "    }\n",
      "  ],\n",
      "  \"top_class\": \"question\",\n",
      "  \"url\": \"https://gateway.watsonplatform.net/natural-language-classifier/api/v1/classifiers/6367d0x551-nlc-2551\"\n",
      "}\n"
     ]
    }
   ],
   "source": [
    "results = nlc.classify( model_id, \"how to add a notebook?\" ).get_result()\n",
    "print( json.dumps( results, indent=2 ) )"
   ]
  },
  {
   "cell_type": "code",
   "execution_count": null,
   "metadata": {},
   "outputs": [],
   "source": []
  },
  {
   "cell_type": "markdown",
   "metadata": {},
   "source": [
    "Copyright © 2019 IBM. This notebook and its source code are released under the terms of the MIT License."
   ]
  }
 ],
 "metadata": {
  "kernelspec": {
   "display_name": "Python 3.5",
   "language": "python",
   "name": "python3"
  },
  "language_info": {
   "codemirror_mode": {
    "name": "ipython",
    "version": 3
   },
   "file_extension": ".py",
   "mimetype": "text/x-python",
   "name": "python",
   "nbconvert_exporter": "python",
   "pygments_lexer": "ipython3",
   "version": "3.5.5"
  }
 },
 "nbformat": 4,
 "nbformat_minor": 1
}
