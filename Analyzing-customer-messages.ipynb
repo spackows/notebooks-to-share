{
    "nbformat_minor": 1, 
    "cells": [
        {
            "source": "# Analyzing customer messages\n\nThis notebook demonstrates Python code for analyzing customer messages using Watson Natural Language Understanding, using default models.\n\n\n- Step 1: Install required libraries\n- Step 2: Look up Natural Language Understanding API key\n- Step 3: Analyze some test messages", 
            "cell_type": "markdown", 
            "metadata": {}
        }, 
        {
            "source": "## Step 1: Install required libraries\n\n- watson_developer_cloud for working with [Watson Natural Language Understanding API](https://cloud.ibm.com/apidocs/natural-language-understanding?code=python)", 
            "cell_type": "markdown", 
            "metadata": {}
        }, 
        {
            "source": "!pip install --upgrade \"ibm-watson>=3.0.3\"", 
            "cell_type": "code", 
            "metadata": {}, 
            "outputs": [], 
            "execution_count": null
        }, 
        {
            "source": "## Step 2: Look up Natural Language Understanding API key and URL\n\n1. From the **Services** menu in Watson Studio, right-click \"Watson Services\" and then open the link in a new browser tab\n2. In the new Watson services tab, from the **Action** menu beside the Natural Language Understanding instance, select \"Manage in IBM Cloud\"\n3. In the service details page that opens, click **Service credentials**, then expand credentials to view them, and then copy the apikey and URL", 
            "cell_type": "markdown", 
            "metadata": {}
        }, 
        {
            "source": "apikey = \"\" # <-- PASTE YOUR APIKEY HERE\nurl    = \"\" # <-- PASTE YOUR SERVICE URL HERE", 
            "cell_type": "code", 
            "metadata": {}, 
            "outputs": [], 
            "execution_count": 2
        }, 
        {
            "source": "## Step 3: Analyze messages", 
            "cell_type": "markdown", 
            "metadata": {}
        }, 
        {
            "source": "# Instantiate a natural language understanding object\n#\nfrom ibm_watson import NaturalLanguageUnderstandingV1\nnlu = NaturalLanguageClassifierV1( version='2018-11-16', iam_apikey=apikey, url=url )", 
            "cell_type": "code", 
            "metadata": {}, 
            "outputs": [], 
            "execution_count": null
        }, 
        {
            "source": "# Analyze some messages...\n#\nimport json\nfrom ibm_watson.natural_language_understanding_v1 import Features, EntitiesOptions, KeywordsOptions\ntext = \"\"\nfeatures = Features( concepts,\n                     emotion,\n                     entities = EntitiesOptions( emotion = True, sentiment = True ),\n                     keywords = KeywordsOptions( emotion = True, sentiment = True ),\n                     relations,\n                     semantic_roles = SemanticRolesOptions,\n                     sentiment,\n                     categories,\n                     syntax = SyntaxOptions( tokens    = TokenOptions( lemma = True, part_of_speech = True ),\n                                             sentences = True ) )\nresults = nlu.classify( text, features ).get_result()\nprint( json.dumps( results, indent=2 ) )", 
            "cell_type": "code", 
            "metadata": {}, 
            "outputs": [
                {
                    "output_type": "stream", 
                    "name": "stdout", 
                    "text": "{\n  \"classifier_id\": \"6367d0x551-nlc-2551\",\n  \"text\": \"Hi, Watson!\",\n  \"classes\": [\n    {\n      \"confidence\": 0.9898349337852899,\n      \"class_name\": \"hi\"\n    },\n    {\n      \"confidence\": 0.005484565963507393,\n      \"class_name\": \"problem\"\n    },\n    {\n      \"confidence\": 0.004680500251202717,\n      \"class_name\": \"question\"\n    }\n  ],\n  \"top_class\": \"hi\",\n  \"url\": \"https://gateway.watsonplatform.net/natural-language-classifier/api/v1/classifiers/6367d0x551-nlc-2551\"\n}\n"
                }
            ], 
            "execution_count": 8
        }, 
        {
            "source": "results = nlc.classify( model_id, \"I'm having trouble logging in\" ).get_result()\nprint( json.dumps( results, indent=2 ) )", 
            "cell_type": "code", 
            "metadata": {}, 
            "outputs": [
                {
                    "output_type": "stream", 
                    "name": "stdout", 
                    "text": "{\n  \"classifier_id\": \"6367d0x551-nlc-2551\",\n  \"text\": \"I'm having trouble logging in\",\n  \"classes\": [\n    {\n      \"confidence\": 0.9917539490416382,\n      \"class_name\": \"problem\"\n    },\n    {\n      \"confidence\": 0.004517168501971262,\n      \"class_name\": \"question\"\n    },\n    {\n      \"confidence\": 0.003728882456390544,\n      \"class_name\": \"hi\"\n    }\n  ],\n  \"top_class\": \"problem\",\n  \"url\": \"https://gateway.watsonplatform.net/natural-language-classifier/api/v1/classifiers/6367d0x551-nlc-2551\"\n}\n"
                }
            ], 
            "execution_count": 9
        }, 
        {
            "source": "results = nlc.classify( model_id, \"how to add a notebook?\" ).get_result()\nprint( json.dumps( results, indent=2 ) )", 
            "cell_type": "code", 
            "metadata": {}, 
            "outputs": [
                {
                    "output_type": "stream", 
                    "name": "stdout", 
                    "text": "{\n  \"classifier_id\": \"6367d0x551-nlc-2551\",\n  \"text\": \"how to add a notebook?\",\n  \"classes\": [\n    {\n      \"confidence\": 0.9911671711133425,\n      \"class_name\": \"question\"\n    },\n    {\n      \"confidence\": 0.00666465872852412,\n      \"class_name\": \"problem\"\n    },\n    {\n      \"confidence\": 0.00216817015813332,\n      \"class_name\": \"hi\"\n    }\n  ],\n  \"top_class\": \"question\",\n  \"url\": \"https://gateway.watsonplatform.net/natural-language-classifier/api/v1/classifiers/6367d0x551-nlc-2551\"\n}\n"
                }
            ], 
            "execution_count": 10
        }, 
        {
            "source": "", 
            "cell_type": "code", 
            "metadata": {}, 
            "outputs": [], 
            "execution_count": null
        }, 
        {
            "source": "Copyright \u00a9 2019 IBM. This notebook and its source code are released under the terms of the MIT License.", 
            "cell_type": "markdown", 
            "metadata": {}
        }
    ], 
    "metadata": {
        "kernelspec": {
            "display_name": "Python 3.6", 
            "name": "python3", 
            "language": "python"
        }, 
        "language_info": {
            "mimetype": "text/x-python", 
            "nbconvert_exporter": "python", 
            "version": "3.6.8", 
            "name": "python", 
            "pygments_lexer": "ipython3", 
            "file_extension": ".py", 
            "codemirror_mode": {
                "version": 3, 
                "name": "ipython"
            }
        }
    }, 
    "nbformat": 4
}
